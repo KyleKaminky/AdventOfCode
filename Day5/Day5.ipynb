{
 "cells": [
  {
   "cell_type": "code",
   "execution_count": 7,
   "id": "3e01d756",
   "metadata": {},
   "outputs": [],
   "source": [
    "f = open(\"input.txt\", \"r\")\n",
    "\n",
    "lines = f.readlines()\n",
    "\n",
    "done_with_stacks = False\n",
    "\n",
    "stacks = {'1': ['D', 'L', 'V','T', 'M', 'H', 'F']\n",
    "         , '2': ['H','Q', 'G','J','C','T','N','P']\n",
    "         , '3': ['R','S', 'D','M','P','H']\n",
    "         , '4': ['L','B','V','F']\n",
    "         , '5': ['N', 'H', 'G', 'L', 'Q']\n",
    "         , '6': ['W','B','D','G','R','M','P']\n",
    "         , '7': ['G','M','N','R','C','H','L','Q']\n",
    "         , '8': ['C','L','W']\n",
    "         , '9' :['R','D','L','Q','J', 'Z', 'M', 'T']}\n",
    "\n",
    "for line in lines:\n",
    "    l = line.replace('move', '')\n",
    "    l = l.replace('from', '')\n",
    "    l = l.replace('to', '')\n",
    "    l = l.split()\n",
    "    count = int(l[0])\n",
    "    from_stack = l[1]\n",
    "    to_stack = l[2]\n",
    "    stack_to_move = []\n",
    "    \n",
    "    for i in range(count):\n",
    "        tmp = stacks[from_stack].pop()\n",
    "        stack_to_move.append(tmp)\n",
    "        \n",
    "    stack_to_move.reverse()\n",
    "    for i in stack_to_move:\n",
    "        stacks[to_stack].append(i)\n",
    "\n"
   ]
  },
  {
   "cell_type": "code",
   "execution_count": 8,
   "id": "53f7e284",
   "metadata": {},
   "outputs": [
    {
     "name": "stdout",
     "output_type": "stream",
     "text": [
      "RNLFDJMCT\n"
     ]
    }
   ],
   "source": [
    "ans = \"\"\n",
    "for stack in stacks:\n",
    "    ans += stacks[stack].pop()\n",
    "print(ans)"
   ]
  }
 ],
 "metadata": {
  "kernelspec": {
   "display_name": "Python 3 (ipykernel)",
   "language": "python",
   "name": "python3"
  },
  "language_info": {
   "codemirror_mode": {
    "name": "ipython",
    "version": 3
   },
   "file_extension": ".py",
   "mimetype": "text/x-python",
   "name": "python",
   "nbconvert_exporter": "python",
   "pygments_lexer": "ipython3",
   "version": "3.10.8"
  }
 },
 "nbformat": 4,
 "nbformat_minor": 5
}

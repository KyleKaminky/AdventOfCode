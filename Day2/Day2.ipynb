{
 "cells": [
  {
   "cell_type": "code",
   "execution_count": 20,
   "id": "9fd75666",
   "metadata": {},
   "outputs": [],
   "source": [
    "rps_code = {\n",
    "    \"A\": \"ROCK\",\n",
    "    \"B\": \"PAPER\",\n",
    "    \"C\": \"SCISSORS\",\n",
    "    \"X\": \"ROCK\",\n",
    "    \"Y\": \"PAPER\",\n",
    "    \"Z\": \"SCISSORS\"\n",
    "}\n",
    "\n",
    "rps_code_2 = {\n",
    "    \"A\": \"ROCK\",\n",
    "    \"B\": \"PAPER\",\n",
    "    \"C\": \"SCISSORS\",\n",
    "    \"X\": \"LOSE\",\n",
    "    \"Y\": \"TIE\",\n",
    "    \"Z\": \"WIN\"\n",
    "}\n",
    "\n",
    "rps_score = {\n",
    "    \"ROCK\": 1,\n",
    "    \"PAPER\": 2,\n",
    "    \"SCISSORS\": 3,\n",
    "    \"WIN\": 6,\n",
    "    \"LOSE\": 0,\n",
    "    \"TIE\": 3 \n",
    "}"
   ]
  },
  {
   "cell_type": "code",
   "execution_count": 21,
   "id": "25b1f5f2",
   "metadata": {},
   "outputs": [],
   "source": [
    "def rps(self_play: str, opp_play: str) -> str:\n",
    "    tie = 3\n",
    "    lose = 0\n",
    "    win = 6\n",
    "    match self_play.upper():\n",
    "        case \"ROCK\":\n",
    "            match opp_play.upper():\n",
    "                case \"ROCK\":\n",
    "                    score = tie\n",
    "                case \"PAPER\":\n",
    "                    score = lose\n",
    "                case \"SCISSORS\":\n",
    "                    score = win\n",
    "        case \"PAPER\":\n",
    "            match opp_play.upper():\n",
    "                case \"ROCK\":\n",
    "                    score = win\n",
    "                case \"PAPER\":\n",
    "                    score = tie\n",
    "                case \"SCISSORS\":\n",
    "                    score = lose\n",
    "        case \"SCISSORS\":\n",
    "            match opp_play.upper():\n",
    "                case \"ROCK\":\n",
    "                    score = lose\n",
    "                case \"PAPER\":\n",
    "                    score = win\n",
    "                case \"SCISSORS\":\n",
    "                    score = tie\n",
    "    return rps_score[self_play] + score\n",
    "\n",
    "\n",
    "def rps2(self_result:str, opp_play: str) -> str:\n",
    "    match self_result.upper():\n",
    "        case \"WIN\":\n",
    "            match opp_play.upper():\n",
    "                case \"ROCK\":\n",
    "                    play = \"PAPER\"\n",
    "                case \"PAPER\":\n",
    "                    play = \"SCISSORS\"\n",
    "                case \"SCISSORS\":\n",
    "                    play = \"ROCK\"\n",
    "        case \"LOSE\":\n",
    "            match opp_play.upper():\n",
    "                case \"ROCK\":\n",
    "                    play = \"SCISSORS\"\n",
    "                case \"PAPER\":\n",
    "                    play = \"ROCK\"\n",
    "                case \"SCISSORS\":\n",
    "                    play = \"PAPER\"\n",
    "        case \"TIE\":\n",
    "            match opp_play.upper():\n",
    "                case \"ROCK\":\n",
    "                    play = \"ROCK\"\n",
    "                case \"PAPER\":\n",
    "                    play = \"PAPER\"\n",
    "                case \"SCISSORS\":\n",
    "                    play = \"SCISSORS\"\n",
    "    return rps_score[self_result] + rps_score[play]\n",
    "    \n",
    "            "
   ]
  },
  {
   "cell_type": "code",
   "execution_count": 23,
   "id": "9d7111eb",
   "metadata": {},
   "outputs": [],
   "source": [
    "f = open(\"input.txt\", \"r\")\n",
    "\n",
    "data = f.readlines()\n",
    "\n",
    "total = 0\n",
    "\n",
    "for line in data:\n",
    "    #total += rps(rps_code[line[2]], rps_code[line[0]])\n",
    "    total += rps2(rps_code_2[line[2]], rps_code_2[line[0]])\n",
    "    \n",
    "    \n",
    "f.close()"
   ]
  },
  {
   "cell_type": "code",
   "execution_count": 24,
   "id": "7a1a7aca",
   "metadata": {},
   "outputs": [
    {
     "name": "stdout",
     "output_type": "stream",
     "text": [
      "12424\n"
     ]
    }
   ],
   "source": [
    "print(total)"
   ]
  },
  {
   "cell_type": "code",
   "execution_count": null,
   "id": "c8690a90",
   "metadata": {},
   "outputs": [],
   "source": []
  }
 ],
 "metadata": {
  "kernelspec": {
   "display_name": "Python 3 (ipykernel)",
   "language": "python",
   "name": "python3"
  },
  "language_info": {
   "codemirror_mode": {
    "name": "ipython",
    "version": 3
   },
   "file_extension": ".py",
   "mimetype": "text/x-python",
   "name": "python",
   "nbconvert_exporter": "python",
   "pygments_lexer": "ipython3",
   "version": "3.10.8"
  }
 },
 "nbformat": 4,
 "nbformat_minor": 5
}

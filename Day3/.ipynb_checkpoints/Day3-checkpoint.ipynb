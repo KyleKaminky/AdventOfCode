{
 "cells": [
  {
   "cell_type": "code",
   "execution_count": 7,
   "id": "14a4ed24",
   "metadata": {},
   "outputs": [],
   "source": [
    "import string"
   ]
  },
  {
   "cell_type": "code",
   "execution_count": 8,
   "id": "f0668aad",
   "metadata": {},
   "outputs": [
    {
     "name": "stdout",
     "output_type": "stream",
     "text": [
      "8252\n"
     ]
    }
   ],
   "source": [
    "f = open(\"input.txt\", \"r\")\n",
    "\n",
    "lines = f.readlines()\n",
    "\n",
    "total = 0\n",
    "for line in lines:\n",
    "    length = int(len(line) - 1)\n",
    "    comp1 = line[:int(length/2)]\n",
    "    comp2 = line[int(length/2):-1]\n",
    "    comp2 = set(comp2)\n",
    "    for letter in comp1:\n",
    "        if letter in comp2:\n",
    "            total += string.ascii_letters.index(letter) + 1\n",
    "            break\n",
    "print(total)\n",
    "\n",
    "f.close()\n"
   ]
  },
  {
   "cell_type": "code",
   "execution_count": 9,
   "id": "fc7b5a4d",
   "metadata": {},
   "outputs": [
    {
     "name": "stdout",
     "output_type": "stream",
     "text": [
      "2828\n"
     ]
    }
   ],
   "source": [
    "f = open(\"input.txt\", \"r\")\n",
    "\n",
    "lines = f.readlines()\n",
    "total = 0\n",
    "for row in range(0, len(lines), 3):\n",
    "    for letter in lines[row][:-1]:\n",
    "        row2 = set(lines[row+1][:-1])\n",
    "        row3 = set(lines[row+2][:-1])\n",
    "        if letter in row2 and letter in row3:\n",
    "            total += string.ascii_letters.index(letter) + 1\n",
    "            break\n",
    "print(total)\n",
    "f.close()"
   ]
  },
  {
   "cell_type": "code",
   "execution_count": null,
   "id": "c5b2af41",
   "metadata": {},
   "outputs": [],
   "source": []
  }
 ],
 "metadata": {
  "kernelspec": {
   "display_name": "Python 3 (ipykernel)",
   "language": "python",
   "name": "python3"
  },
  "language_info": {
   "codemirror_mode": {
    "name": "ipython",
    "version": 3
   },
   "file_extension": ".py",
   "mimetype": "text/x-python",
   "name": "python",
   "nbconvert_exporter": "python",
   "pygments_lexer": "ipython3",
   "version": "3.10.8"
  }
 },
 "nbformat": 4,
 "nbformat_minor": 5
}

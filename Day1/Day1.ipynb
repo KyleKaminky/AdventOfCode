{
 "cells": [
  {
   "cell_type": "code",
   "execution_count": 25,
   "id": "17d4b960",
   "metadata": {},
   "outputs": [
    {
     "name": "stdout",
     "output_type": "stream",
     "text": [
      "[70720, 68508, 67920]\n"
     ]
    }
   ],
   "source": [
    "my_file = open(\"input.txt\", \"r\")\n",
    "\n",
    "data = my_file.readlines()\n",
    "\n",
    "calorie_sum = 0\n",
    "max_calories = []\n",
    "\n",
    "for line in data:\n",
    "    if line == \"\\n\":\n",
    "        max_calories.append(calorie_sum)\n",
    "        calorie_sum = 0\n",
    "    else:\n",
    "        calorie_sum += int(line)\n",
    "        \n",
    "max_calories.sort(reverse=True)\n",
    "print(max_calories[:3])\n",
    "\n",
    "my_file.close()\n"
   ]
  },
  {
   "cell_type": "code",
   "execution_count": null,
   "id": "6a8b4298",
   "metadata": {},
   "outputs": [],
   "source": []
  }
 ],
 "metadata": {
  "kernelspec": {
   "display_name": "Python 3 (ipykernel)",
   "language": "python",
   "name": "python3"
  },
  "language_info": {
   "codemirror_mode": {
    "name": "ipython",
    "version": 3
   },
   "file_extension": ".py",
   "mimetype": "text/x-python",
   "name": "python",
   "nbconvert_exporter": "python",
   "pygments_lexer": "ipython3",
   "version": "3.10.8"
  }
 },
 "nbformat": 4,
 "nbformat_minor": 5
}

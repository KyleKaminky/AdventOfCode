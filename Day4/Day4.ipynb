{
 "cells": [
  {
   "cell_type": "code",
   "execution_count": 17,
   "id": "d286cdfc",
   "metadata": {},
   "outputs": [
    {
     "name": "stdout",
     "output_type": "stream",
     "text": [
      "843\n"
     ]
    }
   ],
   "source": [
    "\n",
    "\n",
    "f = open(\"input.txt\",\"r\")\n",
    "\n",
    "lines = f.readlines()\n",
    "total = 0\n",
    "for line in lines:\n",
    "    strip_line = line.strip()\n",
    "    strip_line = strip_line.replace(',','-')\n",
    "    split_line = strip_line.split('-')\n",
    "    min1 = int(split_line[0])\n",
    "    max1 = int(split_line[1])\n",
    "    min2 = int(split_line[2])\n",
    "    max2 = int(split_line[3])\n",
    "    if (min1 >= min2 and min1 <= max2) or (max1 >= min1 and max1 <= max2):\n",
    "        total += 1\n",
    "    elif (min >= min2 and min1 <= max2) or (max1 >= min1 and max1 <= max2):\n",
    "        total += 1\n",
    "        \n",
    "print(total)\n",
    "f.close()\n",
    "    "
   ]
  },
  {
   "cell_type": "code",
   "execution_count": null,
   "id": "55351146",
   "metadata": {},
   "outputs": [],
   "source": []
  }
 ],
 "metadata": {
  "kernelspec": {
   "display_name": "Python 3 (ipykernel)",
   "language": "python",
   "name": "python3"
  },
  "language_info": {
   "codemirror_mode": {
    "name": "ipython",
    "version": 3
   },
   "file_extension": ".py",
   "mimetype": "text/x-python",
   "name": "python",
   "nbconvert_exporter": "python",
   "pygments_lexer": "ipython3",
   "version": "3.10.8"
  }
 },
 "nbformat": 4,
 "nbformat_minor": 5
}
